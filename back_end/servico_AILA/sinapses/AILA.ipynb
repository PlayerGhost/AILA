{
 "cells": [
  {
   "cell_type": "code",
   "execution_count": 1,
   "metadata": {},
   "outputs": [],
   "source": [
    "from typing import Dict\n",
    "from sinapses_cliente.modelo.requisicao.requisicao import Requisicao\n",
    "from sinapses_cliente.modelo.requisicao.mensagem import Mensagem\n",
    "\n",
    "class RequisicaoAILA(Requisicao):\n",
    "    \n",
    "    def __init__(self, requisicao: Dict[str,any]):\n",
    "\n",
    "        if 'mensagem' not in requisicao:\n",
    "            raise Exception('A mensagem não foi definida!')\n",
    "\n",
    "        self.mensagem = Mensagem.from_dict(requisicao['mensagem'])\n",
    "\n",
    "        super().__init__(requisicao)"
   ]
  },
  {
   "cell_type": "code",
   "execution_count": 2,
   "metadata": {},
   "outputs": [],
   "source": [
    "from typing import Callable\n",
    "\n",
    "from sinapses_cliente.modelo.resposta.resposta import Resposta\n",
    "\n",
    "from sinapses_cliente.modelo.treinamento_resultado import TreinamentoResultado\n",
    "from sinapses_cliente.modelo.servico_contexto import ServicoContexto\n",
    "from sinapses_cliente.sinapses_pipeline import SinapsesPipeline\n",
    "from sinapses_cliente.sinapses_sessao import SinapsesSessao"
   ]
  },
  {
   "cell_type": "code",
   "execution_count": 3,
   "metadata": {},
   "outputs": [
    {
     "name": "stdout",
     "output_type": "stream",
     "text": [
      "O arquivo de configuração foi encontrado em: /home/sinapses/curso/projetos/aila/sinapses.yml\n",
      "Validando as configurações do arquivo encontrado...\n",
      " - O endereço do sinapses é válido!\n",
      " - A autenticação é válida!\n",
      " - O id da versão do modelo é válida!\n",
      "Arquivo de configuração válido!\n",
      "Instanciando o cliente do Sinapses - Versão: 1.4.0\n"
     ]
    }
   ],
   "source": [
    "pipeline = SinapsesPipeline.instancia();"
   ]
  },
  {
   "cell_type": "code",
   "execution_count": 4,
   "metadata": {},
   "outputs": [],
   "source": [
    "def funcao_treinamento(sessao: SinapsesSessao) -> TreinamentoResultado:\n",
    "    return TreinamentoResultado(1, [])"
   ]
  },
  {
   "cell_type": "code",
   "execution_count": 5,
   "metadata": {},
   "outputs": [],
   "source": [
    "import os\n",
    "import sys\n",
    "import pickle\n",
    "import zipfile\n",
    "from io import BytesIO\n",
    "from pathlib import Path\n",
    "\n",
    "def save_file(modelo, filename):\n",
    "    f = open(filename, \"wb\")\n",
    "    f.write(get_file(modelo, filename))\n",
    "    f.close()\n",
    "    \n",
    "def get_file(modelo, filename):\n",
    "    buffer = modelo.get_recurso_por_nome(filename).conteudo.bytes\n",
    "    return buffer\n",
    "\n",
    "def unzip(modelo, filename):\n",
    "    z = zipfile.ZipFile(BytesIO(get_file(modelo, filename)))\n",
    "    z.extractall('./')\n",
    "    z.close()"
   ]
  },
  {
   "cell_type": "code",
   "execution_count": 6,
   "metadata": {},
   "outputs": [],
   "source": [
    "def funcao_inicializacao_servico(sessao: SinapsesSessao):\n",
    "    print('iniciando servico AILA UNIFOR')\n",
    "    modelo = sessao.get_modelo_versao()\n",
    "    \n",
    "    save_file(modelo, 'main.py')\n",
    "\n",
    "    print('servico AILA UNIFOR iniciado com sucesso')\n",
    "    \n",
    "    return ServicoContexto(\n",
    "    )"
   ]
  },
  {
   "cell_type": "code",
   "execution_count": 7,
   "metadata": {},
   "outputs": [],
   "source": [
    "def funcao_servico(sessao: SinapsesSessao, ctx: ServicoContexto, requisicao: RequisicaoAILA) -> Resposta:\n",
    "    texto = sessao.get_mensagem_texto(requisicao.mensagem)\n",
    "\n",
    "    from main import AILA\n",
    "\n",
    "    resposta = None\n",
    "    try:\n",
    "        resultado = AILA(texto)\n",
    "        resposta = Resposta(resultado)\n",
    "        return resposta\n",
    "    except Exception as e: \n",
    "        return Resposta(str(e))"
   ]
  },
  {
   "cell_type": "code",
   "execution_count": 8,
   "metadata": {},
   "outputs": [],
   "source": [
    "def funcao_teste_servico(_s: SinapsesSessao, _c: ServicoContexto, servico: Callable[[str], str]) -> None:    \n",
    "    texto = 'Art. 1.000 do Código Civil'\n",
    "    \n",
    "    r1 = servico({'mensagem': Mensagem.texto(texto).to_dict()})\n",
    "    print({'mensagem': Mensagem.texto(texto).to_dict()})\n",
    "    print(r1)\n",
    "    assert True == True"
   ]
  },
  {
   "cell_type": "code",
   "execution_count": 9,
   "metadata": {},
   "outputs": [],
   "source": [
    "pipeline.definir_treinamento(funcao_treinamento)\n",
    "pipeline.definir_inicializacao_servico(funcao_inicializacao_servico)\n",
    "pipeline.definir_servico(funcao_servico)\n",
    "pipeline.definir_teste_servico(funcao_teste_servico)"
   ]
  },
  {
   "cell_type": "code",
   "execution_count": 10,
   "metadata": {},
   "outputs": [],
   "source": [
    "# pipeline.testar_pipeline()"
   ]
  },
  {
   "cell_type": "code",
   "execution_count": null,
   "metadata": {},
   "outputs": [],
   "source": []
  }
 ],
 "metadata": {
  "kernelspec": {
   "display_name": "Python 3",
   "language": "python",
   "name": "python3"
  },
  "language_info": {
   "codemirror_mode": {
    "name": "ipython",
    "version": 3
   },
   "file_extension": ".py",
   "mimetype": "text/x-python",
   "name": "python",
   "nbconvert_exporter": "python",
   "pygments_lexer": "ipython3",
   "version": "3.6.8"
  }
 },
 "nbformat": 4,
 "nbformat_minor": 2
}
